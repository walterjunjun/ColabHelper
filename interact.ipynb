{
  "nbformat": 4,
  "nbformat_minor": 0,
  "metadata": {
    "colab": {
      "name": "interact.ipynb",
      "version": "0.3.2",
      "provenance": [],
      "include_colab_link": true
    },
    "kernelspec": {
      "name": "python2",
      "display_name": "Python 2"
    }
  },
  "cells": [
    {
      "cell_type": "markdown",
      "metadata": {
        "id": "view-in-github",
        "colab_type": "text"
      },
      "source": [
        "[View in Colaboratory](https://colab.research.google.com/github/walterjunjun/ColabHelper/blob/master/interact.ipynb)"
      ]
    },
    {
      "metadata": {
        "id": "2wsXurCqSu2M",
        "colab_type": "code",
        "colab": {
          "base_uri": "https://localhost:8080/",
          "height": 0
        },
        "outputId": "a441e5cf-7045-4bd9-9fd4-a6e8962af510"
      },
      "cell_type": "code",
      "source": [
        "## interact(func,**kargs)\n",
        "# func: function\n",
        "## kargs: key=arguments\n",
        "## arguments is not iterable, --> it is fixed, \n",
        "## arguments = list[a1,b1,step=1.0],--> [min,max,step=1.0]\n",
        "## [Todo]arguments = tuple (1,2,3), --> list; options to do in future\n",
        "from google.colab import output\n",
        "from IPython import display\n",
        "def interact(func, **kargs):\n",
        "  \n",
        "  # parse the kargs\n",
        "  fixed_kargs={}; # others\n",
        "  option_kargs={}; # tuple\n",
        "  slider_kargs={}; # list, min,max,step=1.0 \n",
        "  slider_template = '%s :<input type=\"range\" class=\"slider\" id=\"%s\" onchange=\"call_back()\"'\n",
        "  slider_template = \"\" +(slider_template + \n",
        "            ' min=\"%3.3f\" max=\"%3.3f\" step =\"%3.3f\" value=\"%3.3f\" > %3.3f <br>')\n",
        "  \n",
        "  js_update_template = '''\n",
        "  <script>\n",
        "      \n",
        "      document.addEventListener(\"DOMContentLoaded\",call_back(%d))\n",
        "      function call_back(is_update)\n",
        "      {\n",
        "        if (is_update < 0)\n",
        "          return ;\n",
        "          \n",
        "        var obj={};\n",
        "        var str_func = \"notebook.add_init\";\n",
        "        var sliders = document.getElementsByClassName(\"slider\");\n",
        "          for(var i = 0; i < sliders.length; i++)\n",
        "        {\n",
        "          obj[sliders[i].id] = sliders[i].value;\n",
        "        }\n",
        "        if (typeof is_update === \"undefined\")\n",
        "           is_update =1    \n",
        "            \n",
        "        if (is_update >0 ) \n",
        "           str_func = \"notebook.add_update\"      \n",
        "        google.colab.kernel.invokeFunction(str_func, [], obj);        \n",
        "  \n",
        "      } \n",
        "  \n",
        "\n",
        "  </script> \n",
        "  '''  \n",
        "  \n",
        "  \n",
        "  \n",
        "  \n",
        "  for key in kargs:\n",
        "    x= kargs[key]\n",
        "    if type(x) is list:\n",
        "      y=[x[0],x[1],1.0,0.5*x[0] + 0.5*x[1]];\n",
        "      if len(x)>2:\n",
        "        y[2]=x[2]\n",
        "      slider_kargs[key] =y; \n",
        "    elif type(x) is tuple:\n",
        "      option_kargs[key] = x;\n",
        "    else:\n",
        "      fixed_kargs[key]=x\n",
        "\n",
        "  def generate_slider_element(a_slider_dict):\n",
        "    all_html=\"\"\n",
        "    for key in a_slider_dict:\n",
        "      value = a_slider_dict[key]\n",
        "      ahtml = slider_template %(key, key, value[0], value[1],value[2], value[3],\n",
        "                                value[3]);\n",
        "      all_html = all_html + ahtml +\"\\n\"\n",
        "    return all_html;\n",
        "  # do it later\n",
        "  def generate_option_element(a_option_dict): # to do later    \n",
        "    return \"\";\n",
        "  \n",
        "  def merge_dicts(*dict_args):\n",
        "    \"\"\"\n",
        "    Given any number of dicts, shallow copy and merge into a new dict,\n",
        "    precedence goes to key value pairs in latter dicts.\n",
        "    \"\"\"\n",
        "    result = {}\n",
        "    for dictionary in dict_args:\n",
        "        result.update(dictionary)\n",
        "    for key in result:\n",
        "      if type(result[key]) is list: # slider get value only;\n",
        "        result[key] = result[key][-1] # only get value\n",
        "    return result\n",
        "  \n",
        "  \n",
        "  def update_html(a_slider_dict, state_flag=0):\n",
        "    \n",
        "    part1_html = generate_slider_element(a_slider_dict);\n",
        "    new_html = part1_html + \"\\n\" +(js_update_template %  state_flag)\n",
        "    #print (new_html)\n",
        "    display.display(display.HTML(new_html));\n",
        "    return;  \n",
        "  \n",
        "  def update_plot(**js_kargs):\n",
        "    \n",
        "    display.clear_output()\n",
        "    \n",
        "    # update the current slider_kargs's value;\n",
        "    for key in js_kargs:\n",
        "      slider_kargs[key][3]=float(js_kargs[key])\n",
        "    \n",
        "    update_html(slider_kargs,-1);\n",
        "    func_kargs=merge_dicts(fixed_kargs, slider_kargs);  \n",
        "    # do what the current functions does\n",
        "    return func(**func_kargs)\n",
        "    \n",
        "    \n",
        "  def init_plot(**js_kargs):\n",
        "    \n",
        "    func_kargs=merge_dicts(fixed_kargs, slider_kargs);\n",
        "    return func(**func_kargs)\n",
        "  update_html(slider_kargs)\n",
        "  output.register_callback('notebook.add_update', update_plot);\n",
        "  output.register_callback('notebook.add_init', init_plot)\n",
        "  \n",
        "  return func;"
      ],
      "execution_count": 1,
      "outputs": []
    },
    {
      "metadata": {
        "id": "L8gW-TQTS0eo",
        "colab_type": "code",
        "colab": {
          "base_uri": "https://localhost:8080/",
          "height": 0
        },
        "outputId": "ba7276b4-8def-457f-daa5-8a07b06292d7"
      },
      "cell_type": "code",
      "source": [
        "# example: \n",
        "import numpy as np\n",
        "import matplotlib.pyplot as plt\n",
        "def test_plot(phase,ampl,factor, fix1,fix2):\n",
        "  x=np.linspace(0,10,100);\n",
        "  y=np.sin(factor*x + factor* x*x + phase) * ampl + fix1 * x;\n",
        "  y2= np.cos(factor*x + x*x + phase) * ampl + fix2 * x;\n",
        "  plt.plot(x,y)\n",
        "  plt.plot(x,y2)\n",
        "  plt.show()\n",
        "  plt.close()"
      ],
      "execution_count": 7,
      "outputs": []
    },
    {
      "metadata": {
        "id": "vswUdJ7RTC3g",
        "colab_type": "code",
        "colab": {
          "base_uri": "https://localhost:8080/",
          "height": 421
        },
        "outputId": "72763cdb-7014-4a68-934d-221d3149ceed"
      },
      "cell_type": "code",
      "source": [
        "interact(test_plot,phase=[0.5,5,0.5], ampl=[1.0,5.0,0.5],factor=[1.0,10.0,0.5], \n",
        "         fix1=0.1, fix2=0.2)"
      ],
      "execution_count": 0,
      "outputs": []
    },
    {
      "metadata": {
        "id": "kR4MA94QTGAr",
        "colab_type": "code",
        "colab": {}
      },
      "cell_type": "code",
      "source": [
        ""
      ],
      "execution_count": 0,
      "outputs": []
    }
  ]
}